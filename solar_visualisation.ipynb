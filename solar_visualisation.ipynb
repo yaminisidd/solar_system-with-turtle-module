{
 "cells": [
  {
   "cell_type": "markdown",
   "id": "65ce482a",
   "metadata": {},
   "source": [
    "# Solar System Visualisation"
   ]
  },
  {
   "cell_type": "raw",
   "id": "7a613d11",
   "metadata": {},
   "source": [
    "In this Python Project, we are going to visualize a Solar System. We will see how the planets revolve around the sun. Also, we will be using different colors to show different planets and assign them with speed and paths to make our project look real. We are going to use the Math Module and Turtle Module to create objects in the solar system and depict their movement."
   ]
  },
  {
   "cell_type": "code",
   "execution_count": 1,
   "id": "55cfc6ff",
   "metadata": {},
   "outputs": [],
   "source": [
    "#importing the required modules\n",
    "import turtle\n",
    "import time\n",
    "from math import *\n",
    "\n",
    "screen = turtle.Screen()#creating the screen\n",
    "screen.tracer(50)\n",
    "\n",
    "sun = turtle.Turtle()#turtle object for sun\n",
    "sun.shape('circle')#shape of sun\n",
    "sun.color('yellow')#colour of sun"
   ]
  },
  {
   "cell_type": "code",
   "execution_count": 2,
   "id": "b529ab21",
   "metadata": {},
   "outputs": [],
   "source": [
    "class Planet(turtle.Turtle):\n",
    "    def __init__(self,name,radius, color):#initialize function\n",
    "        super().__init__(shape='circle')\n",
    "        self.name = name\n",
    "        self.radius = radius\n",
    "        self.c = color\n",
    "        self.color(self.c)\n",
    "        self.up()\n",
    "        self.pd()\n",
    "        self.angle = 0\n",
    "    def move(self):\n",
    "        x = self.radius*cos(self.angle) # Angle in radians\n",
    "        y = self.radius*sin(self.angle) \n",
    "\n",
    "        self.goto(sun.xcor()+x,sun.ycor()+y)"
   ]
  },
  {
   "cell_type": "code",
   "execution_count": 3,
   "id": "7d69cfad",
   "metadata": {},
   "outputs": [],
   "source": [
    "# making plantes\n",
    "mercury = Planet(\"Mercury\",40, 'grey')\n",
    "venus = Planet(\"Venus\",80, 'orange')\n",
    "earth=Planet(\"Earth\",100,'blue')\n",
    "mars = Planet(\"Mars\",150, 'red')\n",
    "jupiter=Planet(\"Jupiter\",180, 'brown')\n",
    "saturn=Planet(\"Saturn\",230, 'pink')\n",
    "uranus=Planet(\"Uranus\",250, 'light blue')\n",
    "neptune=Planet(\"Neptune\",280, 'black')\n",
    "\n",
    "#adding planets to a list\n",
    "myList = [ mercury, venus,earth, mars,jupiter,saturn,uranus,neptune]"
   ]
  },
  {
   "cell_type": "code",
   "execution_count": null,
   "id": "362ed950",
   "metadata": {},
   "outputs": [],
   "source": [
    "while True:#while statement\n",
    "    screen.update()#updating the screen\n",
    "    for i in myList:\n",
    "        i.move()#moving the elements of the list\n",
    "\n",
    "    # Increase the angle by 0.0x radians\n",
    "    \n",
    "    mercury.angle += 0.05\n",
    "    venus.angle += 0.03\n",
    "    earth.angle += 0.01\n",
    "    mars.angle += 0.007\n",
    "\n",
    "    jupiter.angle += 0.02\n",
    "    saturn.angle += 0.018\n",
    "    uranus.angle += 0.016\n",
    "    neptune.angle += 0.005"
   ]
  },
  {
   "cell_type": "code",
   "execution_count": null,
   "id": "525194f0",
   "metadata": {},
   "outputs": [],
   "source": []
  }
 ],
 "metadata": {
  "kernelspec": {
   "display_name": "Python 3 (ipykernel)",
   "language": "python",
   "name": "python3"
  },
  "language_info": {
   "codemirror_mode": {
    "name": "ipython",
    "version": 3
   },
   "file_extension": ".py",
   "mimetype": "text/x-python",
   "name": "python",
   "nbconvert_exporter": "python",
   "pygments_lexer": "ipython3",
   "version": "3.9.13"
  }
 },
 "nbformat": 4,
 "nbformat_minor": 5
}
